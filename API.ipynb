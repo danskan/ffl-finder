{
 "cells": [
  {
   "cell_type": "code",
   "execution_count": null,
   "id": "ac7bed3f",
   "metadata": {},
   "outputs": [],
   "source": [
    "import pandas as pd\n",
    "import numpy as np\n",
    "import requests\n",
    "import json\n",
    "\n",
    "# Google API Key\n",
    "from config import gkey"
   ]
  },
  {
   "cell_type": "code",
   "execution_count": null,
   "id": "78e615f7",
   "metadata": {},
   "outputs": [],
   "source": [
    "df = pd.read_csv(\"FFLs.xlsm\")\n",
    "df.head()"
   ]
  },
  {
   "cell_type": "code",
   "execution_count": null,
   "id": "8764cecb",
   "metadata": {},
   "outputs": [],
   "source": [
    "df[\"Lat\"] = \"\"\n",
    "df[\"Lng\"] = \"\""
   ]
  },
  {
   "cell_type": "code",
   "execution_count": null,
   "id": "6e24e152",
   "metadata": {},
   "outputs": [],
   "source": [
    "params = {\"key\": gkey}\n",
    "\n",
    "\n",
    "for index, row in df.iterrows():\n",
    "    base_url = \"https://maps.googleapis.com/maps/api/geocode/json\"\n",
    "\n",
    "    city = row['City']\n",
    "    state = row['State']\n",
    "\n",
    "    \n",
    "        \n",
    "    params['address'] = f\"{city},{state}\"\n",
    "\n",
    "    cities_lat_lng = requests.get(base_url, params=params)\n",
    "    \n",
    "    cities_lat_lng = cities_lat_lng.json()\n",
    "    \n",
    "    try:\n",
    "\n",
    "        df.loc[index, \"Lat\"] = cities_lat_lng[\"results\"][0][\"geometry\"][\"location\"][\"lat\"]\n",
    "        df.loc[index, \"Lng\"] = cities_lat_lng[\"results\"][0][\"geometry\"][\"location\"][\"lng\"]\n",
    "        \n",
    "    except:\n",
    "        df.loc[index, \"Lng\"]='Null'\n",
    "        \n",
    "\n",
    "# Visualize to confirm lat lng appear\n",
    "df.head()"
   ]
  },
  {
   "cell_type": "code",
   "execution_count": null,
   "id": "7895b06d",
   "metadata": {},
   "outputs": [],
   "source": []
  }
 ],
 "metadata": {
  "kernelspec": {
   "display_name": "Python 3",
   "language": "python",
   "name": "python3"
  },
  "language_info": {
   "codemirror_mode": {
    "name": "ipython",
    "version": 3
   },
   "file_extension": ".py",
   "mimetype": "text/x-python",
   "name": "python",
   "nbconvert_exporter": "python",
   "pygments_lexer": "ipython3",
   "version": "3.7.6"
  }
 },
 "nbformat": 4,
 "nbformat_minor": 5
}
